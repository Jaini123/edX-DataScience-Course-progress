{
 "cells": [
  {
   "cell_type": "markdown",
   "metadata": {},
   "source": [
    "1. You can use Power BI REST APIs to programmatically access certain Power BI resources. One of the operations you can do is Get Datasets which returns a JSON list of all dataset objects that includes a name and id. What is the expected status code when this request is successful?\n",
    "    - 200\n",
    "2. When registering your app for Power BI, which three APIs and level of access you can select for your app?\n",
    "    - Read All Datasets  \n",
    "    - Read and Write All Datasets  \n",
    "    - Read All Dashboards\n",
    "3. Which programming language you would use to create custom visuals?\n",
    "    - TypeScript\n",
    "4. What is the extension of a Power BI custom visual file, downloaded from the Power BI visuals gallery?\n",
    "    - .pbiviz"
   ]
  }
 ],
 "metadata": {
  "kernelspec": {
   "display_name": "Python 2",
   "language": "python",
   "name": "python2"
  },
  "language_info": {
   "codemirror_mode": {
    "name": "ipython",
    "version": 2
   },
   "file_extension": ".py",
   "mimetype": "text/x-python",
   "name": "python",
   "nbconvert_exporter": "python",
   "pygments_lexer": "ipython2",
   "version": "2.7.10"
  }
 },
 "nbformat": 4,
 "nbformat_minor": 0
}
