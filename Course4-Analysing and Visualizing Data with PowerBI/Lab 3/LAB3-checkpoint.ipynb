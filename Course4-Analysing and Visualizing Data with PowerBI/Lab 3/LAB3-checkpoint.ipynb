{
 "cells": [
  {
   "cell_type": "markdown",
   "metadata": {},
   "source": [
    "1. What is VanArsdel's sales for December 2013? (to two decimal places)\n",
    "    - 13981765.42\n",
    "2. What is VanArsdel's total units for the March 2013?\n",
    "    - 42620\n",
    "3. In January 2014, what is VanArsdel's sales for Urban category and Moderation segment? (to two decimal places) (Hint: Try hovering on the chart)\n",
    "    - 6732251.98\n",
    "4. In May 2015, what is VanArsdel's sales for Mix category and All Season segment? (to two decimal places) (Hint: Try hovering on the chart)\n",
    "    - 859987.07\n",
    "5. For VanArsdel's sales in 2015, which are the top 4 manufacturers?\n",
    "    - VanArsdel \n",
    "    - Natura\n",
    "    - Aliqui\n",
    "    - Pirum\n",
    "6. In which year the Moderation segment first took over as the segment with most sales?\n",
    "    - 2009\n",
    "7. What about in terms of Units? In which year the Moderation segment first took over as the segment with most units?\n",
    "    - 2011\n",
    "8. In which year the growth of total sales were not matched by the growth of total units?\n",
    "    - 2006\n",
    "9. Which year saw the biggest drop in total sales?\n",
    "    - 2009\n",
    "10. What about total units? Which year saw the biggest drop in total units?\n",
    "    - 2009\n",
    "11. What is the top product in terms of sales for the year 2010?\n",
    "    - Maximus UM-11 \n",
    "12. What about in terms of units? What is the top product in terms of total units for the year 2010?\n",
    "    - Maximus UM-43"
   ]
  }
 ],
 "metadata": {
  "kernelspec": {
   "display_name": "Python 2",
   "language": "python",
   "name": "python2"
  },
  "language_info": {
   "codemirror_mode": {
    "name": "ipython",
    "version": 2
   },
   "file_extension": ".py",
   "mimetype": "text/x-python",
   "name": "python",
   "nbconvert_exporter": "python",
   "pygments_lexer": "ipython2",
   "version": "2.7.10"
  }
 },
 "nbformat": 4,
 "nbformat_minor": 0
}
