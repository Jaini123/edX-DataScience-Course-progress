{
 "cells": [
  {
   "cell_type": "markdown",
   "metadata": {},
   "source": [
    "1. Which three cardinalities are available in Power BI table relationships?\n",
    "    - many to One\n",
    "    - One to One\n",
    "    - One to Many.\n",
    "2. Which two cross filter directions are available in Power BI table relationships?\n",
    "    - Single\n",
    "    - Both\n",
    "3. Consider the following DAX formula for a calculated column in the Sales table: UnitPrice = Sales[Revenue] / Sales[Units] Which three statements describe the DAX formula?\n",
    "     - The formula creates a calculated column named UnitPrice.  \n",
    "     - The value of the calculated column is dependent on the Revenue column.  \n",
    "     - The value of the calculated column is dependent on the Units column.\n",
    "4. Which three options allow you to hide a field from the Report view in Power BI Desktop?\n",
    "    - In Power BI Desktop Data view, right-click the column header on the respective table, and click Hide in Report View.  \n",
    "    - In Power BI Desktop Relationships view, right-click the field on the respective table, and click Hide in Report View.  \n",
    "    - In Power BI Desktop Report view, right-click the field on the Fields list, and click Hide.\n",
    "5. In Power BI Desktop Report view, which three options will create a measure in the Sales table?\n",
    "    - Select the Sales table in the Fields list, and then click New Measure in the Modelling ribbon.   \n",
    "    - Create the measure, and then set the Home Table properties to Sales.   \n",
    "    - On the Fields list, click the ellipsis next to the Sales table or right-click any field in the Sales table, and then click New Measure. \n",
    "6. What are the three reasons for which you might use calculated tables?\n",
    "    - To union tables\n",
    "    - To perform different types of merge join\n",
    "    - To create a table based on the result of a function or formula"
   ]
  }
 ],
 "metadata": {
  "kernelspec": {
   "display_name": "Python 2",
   "language": "python",
   "name": "python2"
  },
  "language_info": {
   "codemirror_mode": {
    "name": "ipython",
    "version": 2
   },
   "file_extension": ".py",
   "mimetype": "text/x-python",
   "name": "python",
   "nbconvert_exporter": "python",
   "pygments_lexer": "ipython2",
   "version": "2.7.11"
  }
 },
 "nbformat": 4,
 "nbformat_minor": 0
}
