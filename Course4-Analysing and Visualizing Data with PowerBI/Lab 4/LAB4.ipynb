{
 "cells": [
  {
   "cell_type": "markdown",
   "metadata": {},
   "source": [
    "1. You want to pin existing visualizations from a report to a dashboard. How many visualization(s) can you pin to a dashboard?\n",
    "    - You can pin multiple visualizations to a dashboard but you need to do it one at a time. You can pin multiple visualizations to a dashboard but you need to do it one at a time. - correct\n",
    "2. Now try answering the following question by using the Q&A. What is the total sales for Germany in 2014?\n",
    "    - 6,984,804.82\n",
    "3. Let's confirm that you received the dahsboard sharing invitation email. What is the sender's name?\n",
    "    - Microsoft Power BI \n",
    "4. As you can see, when you update a Power BI Desktop file and re-publish it, the report in Power BI service (that is based on that file) will get updated. What about the Dashboard? Do pinned visualizations (tiles) get updated when the report is updated?\n",
    "    - No \n",
    "5. Which two frequencies are available for scheduled refresh?\n",
    "    - Daily\n",
    "    - Weekly"
   ]
  }
 ],
 "metadata": {
  "kernelspec": {
   "display_name": "Python 2",
   "language": "python",
   "name": "python2"
  },
  "language_info": {
   "codemirror_mode": {
    "name": "ipython",
    "version": 2
   },
   "file_extension": ".py",
   "mimetype": "text/x-python",
   "name": "python",
   "nbconvert_exporter": "python",
   "pygments_lexer": "ipython2",
   "version": "2.7.10"
  }
 },
 "nbformat": 4,
 "nbformat_minor": 0
}
