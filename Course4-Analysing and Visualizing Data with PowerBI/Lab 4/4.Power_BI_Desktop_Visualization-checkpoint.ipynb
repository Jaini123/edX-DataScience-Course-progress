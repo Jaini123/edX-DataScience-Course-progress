{
 "cells": [
  {
   "cell_type": "markdown",
   "metadata": {},
   "source": [
    "1. Which three fields are available when creating a Pie chart for visualization?\n",
    "    - Legend\n",
    "    - Details\n",
    "    - Values\n",
    "2. Drag and drop the fields to the corresponding settings to create the above chart.\n",
    "    - Shared Axis: YEAR\n",
    "    - Column Series: COUNTRY\n",
    "    - Column Values: REVENUE\n",
    "    - Line Values: UNITS\n",
    "3. Which level of filter behaves the same as a slicer in a report in Power BI Desktop\n",
    "    - Page level filter\n",
    "4. Drag and drop the fields to the corresponding settings to create the above chart.\n",
    "    - Location: COUNTRY\n",
    "    - Legend: CATEGORY\n",
    "    - Values: REVENUE\n",
    "5. Drag and drop the fields to the corresponding settings to create the above chart.\n",
    "    - Rows: SEGMENT\n",
    "    - Columns: CATEGORY\n",
    "    - Values: REVENUE\n",
    "6. When creating a waterfall chart, which two field options that you need to define?\n",
    "    - Category\n",
    "    - Y Axis\n",
    "7. Which visualization would you use to show progress toward a particular target?\n",
    "    - Gauge\n",
    "8. Which three shapes can you create using the Insert Shapes feature in Power BI Desktop?\n",
    "    - Triangle\n",
    "    - Rectangle\n",
    "    - Oval\n",
    "9. From which two options can you customize your report page layout?\n",
    "    - From the Report ribbon, Page size option\n",
    "    - From the Visualizations, Format option\n",
    "10. Which of the following option would you use to modify the interactions flow between visuals in a Power BI report?\n",
    "    - Edit Visual Interactions\n",
    "11. When you make a copy of a page in your report by using Duplicate Page, which visualizations from the page are duplicated?\n",
    "    - All visualizations\n",
    "12. Which of the following is not an option for Default Summarization?\n",
    "    - Standard deviation\n",
    "13. Which four options you can use to modify the Z order of a visualization?\n",
    "    - Send to Back\n",
    "    - Bring to Front\n",
    "    - Bring Forward\n",
    "    - Send Backward"
   ]
  }
 ],
 "metadata": {
  "kernelspec": {
   "display_name": "Python 2",
   "language": "python",
   "name": "python2"
  },
  "language_info": {
   "codemirror_mode": {
    "name": "ipython",
    "version": 2
   },
   "file_extension": ".py",
   "mimetype": "text/x-python",
   "name": "python",
   "nbconvert_exporter": "python",
   "pygments_lexer": "ipython2",
   "version": "2.7.10"
  }
 },
 "nbformat": 4,
 "nbformat_minor": 0
}
