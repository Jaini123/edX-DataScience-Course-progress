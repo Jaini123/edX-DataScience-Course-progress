{
 "cells": [
  {
   "cell_type": "markdown",
   "metadata": {},
   "source": [
    "1. Answer the following question by reviewing the imported data in Power BI Desktop.  (Hint: Use the Data view). How many rows were imported from the Date query?\n",
    "    - 5844\n",
    "2. How many rows were imported from the Locations query?\n",
    "    - 99618\n",
    "3. How many rows were imported from the Manufacturer query?\n",
    "    - 14\n",
    "4. How many rows were imported from the Products query?\n",
    "    - 2412\n",
    "5. How many rows were imported from the Sales table?\n",
    "    - 9985368\n",
    "6. How many rows were imported from the International Sales query?\n",
    "    - 797244\n",
    "7. How many rows were imported from the Sales query?\n",
    "    - 10782612\n",
    "8. How many rows were imported from the Country Population query?\n",
    "    - 75\n",
    "9. How many distinct values of the Year column were imported from the Country Population query?\n",
    "    - 15"
   ]
  }
 ],
 "metadata": {
  "kernelspec": {
   "display_name": "Python 2",
   "language": "python",
   "name": "python2"
  },
  "language_info": {
   "codemirror_mode": {
    "name": "ipython",
    "version": 2
   },
   "file_extension": ".py",
   "mimetype": "text/x-python",
   "name": "python",
   "nbconvert_exporter": "python",
   "pygments_lexer": "ipython2",
   "version": "2.7.11"
  }
 },
 "nbformat": 4,
 "nbformat_minor": 0
}
