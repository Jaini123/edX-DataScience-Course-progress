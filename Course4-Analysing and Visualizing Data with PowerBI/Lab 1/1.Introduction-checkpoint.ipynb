{
 "cells": [
  {
   "cell_type": "markdown",
   "metadata": {},
   "source": [
    "1. With reference to the previous video, where does the Fields list come from?\n",
    "    - Columns from the Excel Financials worksheet\n",
    "2. Which three of the following services can you connect to directly from the Power BI Get Data option?\n",
    "    - Acumatica\n",
    "    - Google Analytics\n",
    "    - Adobe Analytics"
   ]
  }
 ],
 "metadata": {
  "kernelspec": {
   "display_name": "Python 2",
   "language": "python",
   "name": "python2"
  },
  "language_info": {
   "codemirror_mode": {
    "name": "ipython",
    "version": 2
   },
   "file_extension": ".py",
   "mimetype": "text/x-python",
   "name": "python",
   "nbconvert_exporter": "python",
   "pygments_lexer": "ipython2",
   "version": "2.7.10"
  }
 },
 "nbformat": 4,
 "nbformat_minor": 0
}
