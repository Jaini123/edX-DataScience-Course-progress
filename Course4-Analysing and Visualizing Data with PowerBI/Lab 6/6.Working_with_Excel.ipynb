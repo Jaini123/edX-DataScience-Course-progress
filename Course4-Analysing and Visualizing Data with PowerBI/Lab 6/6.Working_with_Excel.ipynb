{
 "cells": [
  {
   "cell_type": "markdown",
   "metadata": {},
   "source": [
    "1. What do you need to do to prepare an Excel workbook before uploading it to Power BI?\n",
    "    - Format the data as an Excel table. Format the data as an Excel table.\n",
    "2. What happens when you upload an Excel workbook that has a Power View report to Power BI?\n",
    "    - The Excel Power View report will be converted to a Power BI report.\n",
    "3. What happens when you connect to an Excel workbook that is hosted at OneDrive for Business from Power BI?\n",
    "    - The Excel Report will be created in Power BI. "
   ]
  }
 ],
 "metadata": {
  "kernelspec": {
   "display_name": "Python 2",
   "language": "python",
   "name": "python2"
  },
  "language_info": {
   "codemirror_mode": {
    "name": "ipython",
    "version": 2
   },
   "file_extension": ".py",
   "mimetype": "text/x-python",
   "name": "python",
   "nbconvert_exporter": "python",
   "pygments_lexer": "ipython2",
   "version": "2.7.10"
  }
 },
 "nbformat": 4,
 "nbformat_minor": 0
}
