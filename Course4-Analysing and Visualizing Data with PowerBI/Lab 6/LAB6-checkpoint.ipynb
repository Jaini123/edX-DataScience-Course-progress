{
 "cells": [
  {
   "cell_type": "markdown",
   "metadata": {},
   "source": [
    "1. Which two types of access to Power BI content, can you give to a member of a group?\n",
    "    - Edit\n",
    "    - View\n",
    "2. Which other report/datasets are selected along with your defined selection?\n",
    "    -  VanArsdel Report\n",
    "    -  VanArsdel Dataset\n",
    "3. How many contents are brought into the workspace?\n",
    "    - 6"
   ]
  }
 ],
 "metadata": {
  "kernelspec": {
   "display_name": "Python 2",
   "language": "python",
   "name": "python2"
  },
  "language_info": {
   "codemirror_mode": {
    "name": "ipython",
    "version": 2
   },
   "file_extension": ".py",
   "mimetype": "text/x-python",
   "name": "python",
   "nbconvert_exporter": "python",
   "pygments_lexer": "ipython2",
   "version": "2.7.10"
  }
 },
 "nbformat": 4,
 "nbformat_minor": 0
}
