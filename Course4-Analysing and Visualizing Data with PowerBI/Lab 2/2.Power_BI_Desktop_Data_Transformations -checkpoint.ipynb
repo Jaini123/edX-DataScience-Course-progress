{
 "cells": [
  {
   "cell_type": "markdown",
   "metadata": {},
   "source": [
    "1. When you connect to an Access database, which entities are shown in the Navigator window?\n",
    "    - Tables from the Access database\n",
    "2. Which three statements describe the Applied Steps area?\n",
    "    - It records the list of steps from connecting to the data source to all the steps applied to the data.\n",
    "    - The recorded list follows the sequence of steps applied to the data source.\n",
    "    - You can modify the connection to the data source by modifying the Source step settings.\n",
    "3. Which three transformations are available when you right-click a column header in the Query Editor window?\n",
    "    - Remove\n",
    "    - Change Type\n",
    "    - Duplicate Column\n",
    "4. When using the “Split Column by Delimited” transformation, which option may result in more than two new columns?\n",
    "    - At each occurence of the delimiter\n",
    "5. Which three views are available in Power BI Desktop?\n",
    "    - Report\n",
    "    - Data\n",
    "    - Relationships\n",
    "6. You have four queries named Query 1, Query 2, Query 3, and Query 4 in the Power BI desktop. You are creating Query 5, which will be appended at the end of Query 3. When you load the data, which queries will be refreshed?\n",
    "    - Query 3 and Query 5\n",
    "7. Consider the following custom column formula: = if [Country] = “USA” then “United States” else [Country] Which of the following statements describes the value of the custom column formula?\n",
    "    - The value will either be “United States” or whatever the value of the Country column is. The value will either be “United States” or whatever the value of the Country column is. - correct\n",
    "8. Which transformation option converts rows as columns and columns as rows?\n",
    "    - Transpose"
   ]
  }
 ],
 "metadata": {
  "kernelspec": {
   "display_name": "Python 2",
   "language": "python",
   "name": "python2"
  },
  "language_info": {
   "codemirror_mode": {
    "name": "ipython",
    "version": 2
   },
   "file_extension": ".py",
   "mimetype": "text/x-python",
   "name": "python",
   "nbconvert_exporter": "python",
   "pygments_lexer": "ipython2",
   "version": "2.7.10"
  }
 },
 "nbformat": 4,
 "nbformat_minor": 0
}
