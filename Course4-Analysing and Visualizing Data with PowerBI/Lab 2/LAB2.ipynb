{
 "cells": [
  {
   "cell_type": "markdown",
   "metadata": {},
   "source": [
    "1. Review the relationship that you have just created on the CountryZip columns. (Hint: Double-click on the newly created relationship). What is the cardinality of the relationship?\n",
    "    - Many to One\n",
    "2. What is the Cross filter direction of the relationship?\n",
    "    - Both\n",
    "3. What is the figure for the Total Sales measure? (to two decimal places)\n",
    "    - 5127755449.65\n",
    "4. What is the figure for the Sales Var % measure? (to two decimal places)\n",
    "    - 2.74\n",
    "5. What is the figure for the LY YTD Sales measure? (to two decimal places)\n",
    "    - 272629284.10\n",
    "6. What is the figure for the YTD Sales Var % measure? (enter the absolute value, to two decimal places)\n",
    "    - 49.76\n",
    "7. What is the figure for the Total VanArsdel Sales measure? (to two decimal places)\n",
    "    - 2276898965.01\n",
    "8. What is the figure for the % Sales Market Share measure? (to two decimal places)\n",
    "    - 44.40"
   ]
  }
 ],
 "metadata": {
  "kernelspec": {
   "display_name": "Python 2",
   "language": "python",
   "name": "python2"
  },
  "language_info": {
   "codemirror_mode": {
    "name": "ipython",
    "version": 2
   },
   "file_extension": ".py",
   "mimetype": "text/x-python",
   "name": "python",
   "nbconvert_exporter": "python",
   "pygments_lexer": "ipython2",
   "version": "2.7.10"
  }
 },
 "nbformat": 4,
 "nbformat_minor": 0
}
