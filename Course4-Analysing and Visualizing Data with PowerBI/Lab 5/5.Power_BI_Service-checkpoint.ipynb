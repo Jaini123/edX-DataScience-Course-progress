{
 "cells": [
  {
   "cell_type": "markdown",
   "metadata": {},
   "source": [
    "1. By default, where does clicking a tile on a Power BI dashboard take you?\n",
    "    - To the report where the visual was pinned from\n",
    "2. When you pin a visual created by the natural language query, to which dashboard is it pinned?\n",
    "    - The dashboard you selected in the Pin to dashboard window\n",
    "3. You want to share a dashboard with your colleague. What are two possible ways to achieve this goal?\n",
    "    - Click the ellipsis next to the dashboard name on the Dashboards list, and then click Share.  \n",
    "    - Click Share from the upper right of the dashboard you want to share.\n",
    "    - Right-click anywhere in the dashboard, and then click Share.\n",
    "4. You publish a report from Power BI Desktop to Power BI service. You then make changes to your local report in Power BI Desktop by adding some visualizations. When do the changes synchronize to Power BI service?\n",
    "    - When you re-publish the Power BI Desktop report\n",
    "5. What is the purpose of Power BI Personal Gateway?\n",
    "    - To provide quick and secure data transfer between Power BI service and on-premises data sources that support refresh. To provide quick and secure data transfer between Power BI service and on-premises data sources that support refresh.\n",
    "6. You are viewing a Power BI dashboard using the Power BI Windows mobile app. When you click a tile, where does it take you?\n",
    "    - To a larger view of the tile \n",
    "7. You are viewing a Power BI dashboard in a browser window. What happens when you click the Infocus mode of a tile?\n",
    "    - The tile you selected expands and takes the full space.\n",
    "8. Which three properties of a tile can you edit in the Power BI dashboard from the Tile details window?\n",
    "    - Title\n",
    "    - Subtitle\n",
    "    - Destination link\n",
    "9. What do you need to append to the URL of a Power BI dashboard in order to open it with the navigation pane collapsed by default?\n",
    "    - ?collapseNavigation=true"
   ]
  }
 ],
 "metadata": {
  "kernelspec": {
   "display_name": "Python 2",
   "language": "python",
   "name": "python2"
  },
  "language_info": {
   "codemirror_mode": {
    "name": "ipython",
    "version": 2
   },
   "file_extension": ".py",
   "mimetype": "text/x-python",
   "name": "python",
   "nbconvert_exporter": "python",
   "pygments_lexer": "ipython2",
   "version": "2.7.10"
  }
 },
 "nbformat": 4,
 "nbformat_minor": 0
}
