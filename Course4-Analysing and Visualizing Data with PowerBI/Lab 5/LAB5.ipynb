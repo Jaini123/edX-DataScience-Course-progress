{
 "cells": [
  {
   "cell_type": "markdown",
   "metadata": {},
   "source": [
    "1. What is the total revenue for Canada in 2014? (to two decimal places)\n",
    "    - 1674868.34\n",
    "2. In which year VarArsdel sold the most number of units in Canada?\n",
    "    - 2006\n",
    "3. Drag the Province to its appropriate box, 1 for the one with highest, and 4 for the one with the lowest. For VanArsdel's Canada sales (Revenue) in 2012, which are the top 4 Provinces?\n",
    "    - Ontario\n",
    "    - Alberta\n",
    "    - British Columbia\n",
    "    - Manitoba\n",
    "4. Drag the Province to its appropriate box, 1 for the one with highest, and 4 for the one with the lowest. What about for the year 2013? For VanArsdel's Canada sales (Revenue) in 2013, which are the top 4 Provinces?\n",
    "    - Alberta\n",
    "    - Ontario\n",
    "    - British Columbia\n",
    "    - Manitoba\n",
    "5. Using the Power View1 report, which manufacturer has the most growth in total units between May and June 2015 (for all categories)?\n",
    "    - Pirum\n",
    "6. What about for only the Youth category? Which manufacturer has the most growth in total units between May and June 2015, for the Youth category?\n",
    "    - Natura\n",
    "7. Which manufacturer(s) does not have products for the Youth category?\n",
    "    - Pirum\n",
    "    - VanArsdel\n",
    "8. Drag the Manufacturer to its appropriate box, 1 for the one with highest, and 4 for the one with the lowest. For the Central region in 2015, which are the top 4 Manufacturers?\n",
    "    - VanArsdel\n",
    "    - Natura\n",
    "    - Pirum\n",
    "    - Aliqui\n"
   ]
  }
 ],
 "metadata": {
  "kernelspec": {
   "display_name": "Python 2",
   "language": "python",
   "name": "python2"
  },
  "language_info": {
   "codemirror_mode": {
    "name": "ipython",
    "version": 2
   },
   "file_extension": ".py",
   "mimetype": "text/x-python",
   "name": "python",
   "nbconvert_exporter": "python",
   "pygments_lexer": "ipython2",
   "version": "2.7.10"
  }
 },
 "nbformat": 4,
 "nbformat_minor": 0
}
