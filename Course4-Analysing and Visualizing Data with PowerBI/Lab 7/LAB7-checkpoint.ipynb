{
 "cells": [
  {
   "cell_type": "markdown",
   "metadata": {},
   "source": [
    "1. Select year 2015 from the slicer and review the card visualization. What is the total Revenue for the year 2015?\n",
    "    - 125.84M\n",
    "2. What is the total Revenue for the year 2014?\n",
    "    - 251.79M\n",
    "3. Select year 2015 from the slicer and review the card visualization. What is the total Units for the year 2015?\n",
    "    - 222K\n",
    "4. What is the total Units for the year 2014?\n",
    "    - 427K"
   ]
  }
 ],
 "metadata": {
  "kernelspec": {
   "display_name": "Python 2",
   "language": "python",
   "name": "python2"
  },
  "language_info": {
   "codemirror_mode": {
    "name": "ipython",
    "version": 2
   },
   "file_extension": ".py",
   "mimetype": "text/x-python",
   "name": "python",
   "nbconvert_exporter": "python",
   "pygments_lexer": "ipython2",
   "version": "2.7.10"
  }
 },
 "nbformat": 4,
 "nbformat_minor": 0
}
