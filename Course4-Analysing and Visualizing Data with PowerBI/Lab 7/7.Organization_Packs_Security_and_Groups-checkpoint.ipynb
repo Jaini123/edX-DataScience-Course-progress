{
 "cells": [
  {
   "cell_type": "markdown",
   "metadata": {},
   "source": [
    "1. Which three options can you add as a group member?\n",
    "    - Distribution Lists\n",
    "2. Which two options you can give access to a content pack?\n",
    "    - Power BI Group\n",
    "    - Entire Organizations\n",
    "3. Which two of the following happen when you personalize a content pack?\n",
    "    - A copy of a content pack where you can make changes is created.\n",
    "    - The published version of the content pack is disconnected from the personalized content pack.\n",
    "4. When can you update a published content pack?\n",
    "    - Anytime after you made changes to the published content pack \n",
    "5. You create a Power BI report using Power BI desktop and save the report as .pbix file. You upload the file to OneDrive for Business. Using Power BI service, you connect to the file hosted on OneDrive for Business. What happens when you update the .pbix file on OneDrive for Business?\n",
    "    - The corresponding report in Power BI service also gets updated automatically. "
   ]
  }
 ],
 "metadata": {
  "kernelspec": {
   "display_name": "Python 2",
   "language": "python",
   "name": "python2"
  },
  "language_info": {
   "codemirror_mode": {
    "name": "ipython",
    "version": 2
   },
   "file_extension": ".py",
   "mimetype": "text/x-python",
   "name": "python",
   "nbconvert_exporter": "python",
   "pygments_lexer": "ipython2",
   "version": "2.7.10"
  }
 },
 "nbformat": 4,
 "nbformat_minor": 0
}
