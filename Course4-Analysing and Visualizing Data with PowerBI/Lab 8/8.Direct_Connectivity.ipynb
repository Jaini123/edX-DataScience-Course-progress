{
 "cells": [
  {
   "cell_type": "markdown",
   "metadata": {},
   "source": [
    "1. Which three data sources allow you to use direct connection from Power BI?\n",
    "    -  Azure SQL Database  \n",
    "    - Azure SQL Data Warehouse\n",
    "    - SQL Server Analysis Services\n",
    "2. When you connect to a model in SQL Server Analysis Service, what is shown in the Navigator window?\n",
    "    - Summary showing the available dimensions and measures Summary showing the available dimensions and measures\n",
    "3. Where would you install the Analysis Service Connector?\n",
    "    - On the machine running the SQL Server Analysis Service"
   ]
  }
 ],
 "metadata": {
  "kernelspec": {
   "display_name": "Python 2",
   "language": "python",
   "name": "python2"
  },
  "language_info": {
   "codemirror_mode": {
    "name": "ipython",
    "version": 2
   },
   "file_extension": ".py",
   "mimetype": "text/x-python",
   "name": "python",
   "nbconvert_exporter": "python",
   "pygments_lexer": "ipython2",
   "version": "2.7.10"
  }
 },
 "nbformat": 4,
 "nbformat_minor": 0
}
